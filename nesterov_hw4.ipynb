{
 "cells": [
  {
   "cell_type": "markdown",
   "metadata": {},
   "source": [
    "### Алгоритмы интеллектуальной обработки больших объемов данных\n",
    "## Домашнее задание №4 - Градиентный бустинг\n"
   ]
  },
  {
   "cell_type": "markdown",
   "metadata": {},
   "source": [
    "**Общая информация**\n",
    "\n",
    "**Срок сдачи:** 13 июня 2022, 08:30   \n",
    "**Штраф за опоздание:** -2 балла после 08:30 13 июня, -4 балла после 08:30 20 июня, -6 баллов после 08:30 24 мая, -8 баллов после 08:30 31 мая.\n",
    "\n",
    "При отправлении ДЗ указывайте фамилию в названии файла Присылать ДЗ необходимо в виде ссылки на свой github репозиторий на почту ml1.sphere@mail.ru с указанием темы в следующем формате:\n",
    "[ML0422, Задание 4] Фамилия Имя. \n",
    "\n",
    "\n",
    "Используйте данный Ipython Notebook при оформлении домашнего задания."
   ]
  },
  {
   "cell_type": "markdown",
   "metadata": {},
   "source": [
    "##  Считаем производные для функций потерь (1 балл)"
   ]
  },
  {
   "cell_type": "markdown",
   "metadata": {},
   "source": [
    "Мы будем реализовать градиентный бустинг для 3 функций потерь:\n",
    "\n",
    "1) MSE  $L(a(x_i), y_i) = (y_i - a(x_i)) ^ 2$\n",
    "\n",
    "2) Экспоненциальная  $L(a(x_i), y_i) = exp( -a(x_i) y_i), y_i \\in \\{-1, 1\\}$\n",
    "\n",
    "3) Логистическая  $L(a(x_i), y_i) = \\log (1 + exp( -a(x_i) y_i)), y_i \\in \\{-1, 1\\}$\n",
    "\n",
    "где $a(x_i)$ предсказание бустинга на итом объекте. \n",
    "\n",
    "Для каждой функции потерь напишите таргет, на который будет настраиваться каждое дерево в бустинге. "
   ]
  },
  {
   "cell_type": "markdown",
   "metadata": {},
   "source": [
    "$$L(z, y_i) = (y_i - z) ^ 2,~\\frac{\\partial L}{\\partial z} = -2(y_i - z),~\\left.-\\frac{\\partial L}{\\partial z}\\right\\vert_{\\large z=F_{k-1}(x_i)}=2(y_i - F_{k-1}(x_i))$$\n",
    "\n",
    "$$L(z, y_i) = e^{\\large -zy_i},~\\frac{\\partial L}{\\partial z}=-y_ie^{\\large -zy_i},~\\left.-\\frac{\\partial L}{\\partial z}\\right\\vert_{\\large z=F_{k-1}(x_i)}=y_ie^{\\large -y_iF_{k-1}(x_i)}$$\n",
    "\n",
    "$$L(z, y_i) = \\log(1 + e^{\\large -zy_i}),~\\frac{\\partial L}{\\partial z}=-y_i\\frac{e^{\\large -zy_i}}{1 + e^{\\large -zy_i}},~\\left.-\\frac{\\partial L}{\\partial z}\\right\\vert_{\\large z=F_{k-1}(x_i)}=y_i\\frac{e^{\\large -y_iF_{k-1}(x_i)}}{1 + e^{\\large -y_iF_{k-1}(x_i)}}$$"
   ]
  },
  {
   "cell_type": "markdown",
   "metadata": {},
   "source": [
    "##  Реализуем градиентный бустинг (3 балла)"
   ]
  },
  {
   "cell_type": "markdown",
   "metadata": {},
   "source": [
    "Реализуйте класс градиентного бустинга для классификации. Ваша реализация бустинга должна работать по точности не более чем на 5 процентов хуже чем GradientBoostingClassifier из sklearn. \n"
   ]
  },
  {
   "cell_type": "markdown",
   "metadata": {},
   "source": [
    "Детали реализации:\n",
    "\n",
    "-- должно поддерживаться 3 функции потерь\n",
    "\n",
    "-- сами базовые алгоритмы(деревья, линейные модели и тп) реализовать не надо, просто возьмите готовые из sklearn\n",
    "\n",
    "-- в качестве функции потерь для построения одного дерева используйте MSE\n",
    "\n",
    "-- шаг в бустинге можно не подбирать, можно брать константный\n",
    "\n",
    "-- можно брать разные модели в качестве инициализации бустинга\n",
    "\n",
    "-- должны поддерживаться следующие параметры:\n",
    "\n",
    "а) число итераций\n",
    "б) размер шага\n",
    "в) процент случайных фичей при построении одного дерева\n",
    "д) процент случайных объектов при построении одного дерева\n",
    "е) параметры базового алгоритма (передавайте через **kwargs)"
   ]
  },
  {
   "cell_type": "code",
   "execution_count": 1,
   "metadata": {
    "jupyter": {
     "outputs_hidden": true
    }
   },
   "outputs": [],
   "source": [
    "from typing import Callable\n",
    "from tqdm import tqdm\n",
    "\n",
    "import numpy as np\n",
    "import pandas as pd\n",
    "import matplotlib.pyplot as plt\n",
    "\n",
    "from sklearn.datasets import load_wine\n",
    "from sklearn.ensemble import GradientBoostingClassifier, RandomForestRegressor\n",
    "from sklearn.svm import SVR\n",
    "from sklearn.linear_model import SGDRegressor\n",
    "from sklearn.metrics import accuracy_score\n",
    "from sklearn.model_selection import train_test_split\n",
    "from sklearn.tree import DecisionTreeRegressor\n",
    "from sklearn.dummy import DummyRegressor\n",
    "\n",
    "from scipy.optimize import minimize\n",
    "\n",
    "# for results reproducing\n",
    "np.random.seed(42)"
   ]
  },
  {
   "cell_type": "code",
   "execution_count": 2,
   "metadata": {
    "jupyter": {
     "outputs_hidden": true
    }
   },
   "outputs": [],
   "source": [
    "class MyGradientBoostingClassifier:\n",
    "    def __init__(\n",
    "        self,\n",
    "        loss: str = 'mse', learning_rate: float = 0.1, n_estimators: int = 100, \n",
    "        colsample: float = 1.0, subsample: float = 1.0,\n",
    "        *args, **kwargs\n",
    "    ):\n",
    "        \"\"\"\n",
    "        loss -- один из 3 лоссов: 'mse', 'exp', 'log'\n",
    "        learning_rate -- шаг бустинга\n",
    "        n_estimators -- число итераций\n",
    "        colsample -- процент рандомных признаков при обучении одного алгоритма\n",
    "        colsample -- процент рандомных объектов при обучении одного алгоритма\n",
    "        args, kwargs -- параметры  базовых моделей\n",
    "        \"\"\"\n",
    "        if loss not in ['mse', 'exp', 'log']:\n",
    "            raise ValueError(f\"Bad loss: {loss}\")\n",
    "\n",
    "        self.base_model_args = args\n",
    "        self.base_model_kwargs = kwargs\n",
    "        \n",
    "        self.loss = loss\n",
    "        self.lr = learning_rate\n",
    "        self.n_estimators = n_estimators\n",
    "        self.colsample = colsample\n",
    "        self.subsample = subsample\n",
    "        \n",
    "        self.models = []\n",
    "        self.gammas = []\n",
    "    \n",
    "    def _bootstrap_idx(self, train: np.ndarray):\n",
    "        n_objects, n_features = train.shape\n",
    "        samples_idx = np.random.permutation(n_objects)[:int(self.subsample * n_objects)]\n",
    "        features_idx = np.random.permutation(n_features)[:int(self.colsample * n_features)]\n",
    "        return samples_idx, features_idx\n",
    "    \n",
    "    def _find_optimal_gamma(self, y: np.array, old_predictions: np.array, new_predictions: np.array) -> float:\n",
    "        \"\"\"\n",
    "        y -- таргеты для обучения\n",
    "        \"\"\"\n",
    "        def min_func(gamma):\n",
    "            if self.loss == 'mse':\n",
    "                return ((y - (old_predictions + gamma * new_predictions)) ** 2).mean()\n",
    "            elif self.loss == 'exp':\n",
    "                return np.exp(-(old_predictions + gamma * new_predictions) * y).mean()\n",
    "            elif self.loss == 'log':\n",
    "                return np.log(1 + np.exp(-(old_predictions + gamma * new_predictions) * y)).mean()\n",
    "        \n",
    "        return minimize(min_func, x0=0.5).x\n",
    "    \n",
    "    def _fit_base_model(self, x: np.ndarray, y: np.array, base_model_cls: Callable):\n",
    "        \"\"\"\n",
    "        x -- объекты для обучения:\n",
    "        y -- таргеты для обучения\n",
    "        \"\"\"\n",
    "        base_model = base_model_cls(*self.base_model_args, **self.base_model_kwargs)\n",
    "        base_model.fit(x, y)\n",
    "        return base_model\n",
    "    \n",
    "    def _rescale(self, y: np.ndarray):\n",
    "        \"\"\"\n",
    "        scale target to [-1, 1]\n",
    "        \"\"\"\n",
    "        return (self.min + self.max - 2 * y) / (self.min - self.max)\n",
    "    \n",
    "    def _rescale_back(self, predicts: np.ndarray):\n",
    "        pred_min, pred_max = np.min(predicts), np.max(predicts)\n",
    "        k = (self.min - self.max) / (pred_min - pred_max)\n",
    "        b = (self.max * pred_min - self.min * pred_max) / (pred_min - pred_max)\n",
    "        return k * predicts + b\n",
    "    \n",
    "    def fit(self, x_src, y_src, base_model_cls=DecisionTreeRegressor, init_model=None):\n",
    "        \"\"\"\n",
    "        x -- объекты для обучения\n",
    "        y -- таргеты для обучения\n",
    "        base_model -- класс базовых моделей, например sklearn.tree.DecisionTreeRegressor\n",
    "        init_model -- класс для первой модели, если None то берем константу (только для посл задания)\n",
    "        \"\"\"\n",
    "        x = x_src.copy()\n",
    "        \n",
    "        self.min = np.min(y_src)\n",
    "        self.max = np.max(y_src)\n",
    "        y = self._rescale(y_src)\n",
    "        \n",
    "        base_model = DummyRegressor() if init_model is None else init_model\n",
    "        base_model.fit(x, y)\n",
    "        base_model.features_idx = np.arange(x.shape[1])\n",
    "        self.models.append(base_model)\n",
    "        self.gammas.append(1.0)\n",
    "\n",
    "        for i in range(1, self.n_estimators):\n",
    "            old_preds = self._predict(x)\n",
    "            \n",
    "            new_targets = None\n",
    "            if self.loss == 'mse':\n",
    "                new_targets = 2 * (y - old_preds)\n",
    "            elif self.loss == 'exp':\n",
    "                new_targets = y * np.exp(-old_preds * y)\n",
    "            elif self.loss == 'log':\n",
    "                exp = np.exp(-old_preds * y)\n",
    "                new_targets = y * exp / (1 + exp)\n",
    "            \n",
    "            samples_idx, features_idx = self._bootstrap_idx(x)\n",
    "\n",
    "            base_model = self._fit_base_model(\n",
    "                x[samples_idx, :][:, features_idx],\n",
    "                new_targets[samples_idx], \n",
    "                base_model_cls\n",
    "            )\n",
    "            base_model.features_idx = features_idx\n",
    "            \n",
    "            gamma = self._find_optimal_gamma(y, old_preds, base_model.predict(x[:, features_idx]))\n",
    "\n",
    "            self.models.append(base_model)\n",
    "            self.gammas.append(gamma)\n",
    "\n",
    "        return self\n",
    "    \n",
    "    def _predict(self, x):\n",
    "        predicts = np.zeros((x.shape[0]))\n",
    "        for gamma, base_model in zip(self.gammas, self.models):\n",
    "            predicts += self.lr * gamma * base_model.predict(x[:, base_model.features_idx])\n",
    "        return predicts\n",
    "    \n",
    "    def predict(self, x):\n",
    "        return np.round(self._rescale_back(self._predict(x))).astype(int)"
   ]
  },
  {
   "cell_type": "code",
   "execution_count": 3,
   "metadata": {},
   "outputs": [],
   "source": [
    "my_clf = MyGradientBoostingClassifier(max_depth=3)\n",
    "clf = GradientBoostingClassifier()"
   ]
  },
  {
   "cell_type": "code",
   "execution_count": 4,
   "metadata": {
    "jupyter": {
     "outputs_hidden": true
    }
   },
   "outputs": [],
   "source": [
    "wine = load_wine()\n",
    "X_train, X_test, y_train, y_test = train_test_split(\n",
    "    wine.data, wine.target,\n",
    "    test_size=0.1,\n",
    "    stratify=wine.target\n",
    ")"
   ]
  },
  {
   "cell_type": "code",
   "execution_count": 5,
   "metadata": {
    "scrolled": false
   },
   "outputs": [
    {
     "name": "stdout",
     "output_type": "stream",
     "text": [
      "0.9444444444444444\n",
      "1.0\n"
     ]
    }
   ],
   "source": [
    "my_clf.fit(X_train, y_train)\n",
    "clf.fit(X_train, y_train)\n",
    "print(accuracy_score(y_pred=clf.predict(X_test), y_true=y_test))\n",
    "print(accuracy_score(y_pred=my_clf.predict(X_test), y_true=y_test))"
   ]
  },
  {
   "cell_type": "markdown",
   "metadata": {},
   "source": [
    "## Подбираем параметры (2 балла)\n",
    "\n",
    "Давайте попробуем применить Ваш бустинг для предсказаний цены домов в Калифорнии. Чтобы можно было попробовать разные функции потерь, переведем по порогу таргет в 2 класса: дорогие и дешевые дома."
   ]
  },
  {
   "cell_type": "markdown",
   "metadata": {},
   "source": [
    "В задании нужно\n",
    "\n",
    "1) Построить график точности в зависимости от числа итераций на валидации.\n",
    "\n",
    "2) Подобрать оптимальные параметры Вашего бустинга на валидации. \n"
   ]
  },
  {
   "cell_type": "code",
   "execution_count": 6,
   "metadata": {},
   "outputs": [],
   "source": [
    "from sklearn.datasets import fetch_california_housing\n",
    "X, y = fetch_california_housing(return_X_y=True)"
   ]
  },
  {
   "cell_type": "code",
   "execution_count": 7,
   "metadata": {},
   "outputs": [
    {
     "name": "stdout",
     "output_type": "stream",
     "text": [
      "(20640, 8) (20640,)\n"
     ]
    }
   ],
   "source": [
    "# Превращаем регрессию в классификацию\n",
    "y = (y > 2.0).astype(int)\n",
    "print(X.shape, y.shape)"
   ]
  },
  {
   "cell_type": "code",
   "execution_count": 8,
   "metadata": {},
   "outputs": [],
   "source": [
    "X_train, X_val, y_train, y_val = train_test_split(\n",
    "    X, y,\n",
    "    test_size=0.2,\n",
    "    random_state=42,\n",
    "    stratify=y\n",
    ")"
   ]
  },
  {
   "cell_type": "code",
   "execution_count": 9,
   "metadata": {},
   "outputs": [
    {
     "name": "stdout",
     "output_type": "stream",
     "text": [
      "initial accuracy: 0.8265503875968992\n"
     ]
    }
   ],
   "source": [
    "clf = MyGradientBoostingClassifier()\n",
    "clf.fit(X_train, y_train)\n",
    "print(f\"initial accuracy: {accuracy_score(y_pred=clf.predict(X_val), y_true=y_val)}\")"
   ]
  },
  {
   "cell_type": "markdown",
   "metadata": {},
   "source": [
    "###  Точность в зависимости от числа итераций на валидации"
   ]
  },
  {
   "cell_type": "code",
   "execution_count": 10,
   "metadata": {},
   "outputs": [
    {
     "name": "stderr",
     "output_type": "stream",
     "text": [
      "100%|███████████████████████████████████████████| 15/15 [04:09<00:00, 16.65s/it]"
     ]
    },
    {
     "name": "stdout",
     "output_type": "stream",
     "text": [
      "Best n_estimators: 50\n"
     ]
    },
    {
     "name": "stderr",
     "output_type": "stream",
     "text": [
      "\n"
     ]
    }
   ],
   "source": [
    "estimators = range(10, 160, 10)\n",
    "estimators_scores = []\n",
    "for n_estimators in tqdm(estimators):\n",
    "    clf = MyGradientBoostingClassifier(n_estimators=n_estimators)\n",
    "    clf.fit(X_train, y_train)\n",
    "    estimators_scores.append(accuracy_score(y_pred=clf.predict(X_val), y_true=y_val))\n",
    "\n",
    "best_n_estimators = estimators[np.argmax(estimators_scores)]\n",
    "print(f\"Best n_estimators: {best_n_estimators}\")"
   ]
  },
  {
   "cell_type": "code",
   "execution_count": 11,
   "metadata": {},
   "outputs": [
    {
     "data": {
      "image/png": "[encoded data removed]",
      "text/plain": [
       "<Figure size 432x288 with 1 Axes>"
      ]
     },
     "metadata": {
      "needs_background": "light"
     },
     "output_type": "display_data"
    }
   ],
   "source": [
    "plt.xlabel(\"n_estimators\")\n",
    "plt.ylabel(\"accuracy on val\")\n",
    "plt.title(\"Зависимость точности от количества итераций\")\n",
    "plt.plot(estimators, estimators_scores)\n",
    "plt.grid(True)"
   ]
  },
  {
   "cell_type": "markdown",
   "metadata": {},
   "source": [
    "### Подбор оптимальных параметров на валидации"
   ]
  },
  {
   "cell_type": "markdown",
   "metadata": {},
   "source": [
    "### loss"
   ]
  },
  {
   "cell_type": "code",
   "execution_count": 12,
   "metadata": {},
   "outputs": [
    {
     "name": "stderr",
     "output_type": "stream",
     "text": [
      "100%|█████████████████████████████████████████████| 3/3 [01:01<00:00, 20.41s/it]"
     ]
    },
    {
     "name": "stdout",
     "output_type": "stream",
     "text": [
      "Best loss: log\n"
     ]
    },
    {
     "name": "stderr",
     "output_type": "stream",
     "text": [
      "\n"
     ]
    }
   ],
   "source": [
    "losses = ['mse', 'exp', 'log']\n",
    "losses_scores = []\n",
    "for loss in tqdm(losses):\n",
    "    clf = MyGradientBoostingClassifier(loss=loss)\n",
    "    clf.fit(X_train, y_train)\n",
    "    losses_scores.append(accuracy_score(y_pred=clf.predict(X_val), y_true=y_val))\n",
    "\n",
    "best_loss = losses[np.argmax(losses_scores)]\n",
    "print(f\"Best loss: {best_loss}\")"
   ]
  },
  {
   "cell_type": "markdown",
   "metadata": {},
   "source": [
    "### learning rate"
   ]
  },
  {
   "cell_type": "code",
   "execution_count": 13,
   "metadata": {},
   "outputs": [
    {
     "name": "stderr",
     "output_type": "stream",
     "text": [
      "100%|█████████████████████████████████████████████| 5/5 [01:11<00:00, 14.36s/it]"
     ]
    },
    {
     "name": "stdout",
     "output_type": "stream",
     "text": [
      "Best learning rate: 0.2\n"
     ]
    },
    {
     "name": "stderr",
     "output_type": "stream",
     "text": [
      "\n"
     ]
    }
   ],
   "source": [
    "lrs = np.arange(0.1, 0.6, 0.1)\n",
    "lr_scores = []\n",
    "for lr in tqdm(lrs):\n",
    "    clf = MyGradientBoostingClassifier(learning_rate=lr)\n",
    "    clf.fit(X_train, y_train)\n",
    "    lr_scores.append(accuracy_score(y_pred=clf.predict(X_val), y_true=y_val))\n",
    "\n",
    "best_lr = lrs[np.argmax(lr_scores)]\n",
    "print(f\"Best learning rate: {best_lr}\")"
   ]
  },
  {
   "cell_type": "markdown",
   "metadata": {},
   "source": [
    "### colsample"
   ]
  },
  {
   "cell_type": "code",
   "execution_count": 14,
   "metadata": {},
   "outputs": [
    {
     "name": "stderr",
     "output_type": "stream",
     "text": [
      "100%|█████████████████████████████████████████████| 8/8 [02:23<00:00, 17.97s/it]"
     ]
    },
    {
     "name": "stdout",
     "output_type": "stream",
     "text": [
      "Best colsample: 0.75\n"
     ]
    },
    {
     "name": "stderr",
     "output_type": "stream",
     "text": [
      "\n"
     ]
    }
   ],
   "source": [
    "colsamples = np.linspace(1/8, 1.0, 8)\n",
    "colsamples_scores = []\n",
    "for colsample in tqdm(colsamples):\n",
    "    clf = MyGradientBoostingClassifier(colsample=colsample)\n",
    "    clf.fit(X_train, y_train)\n",
    "    colsamples_scores.append(accuracy_score(y_pred=clf.predict(X_val), y_true=y_val))\n",
    "\n",
    "best_colsample = colsamples[np.argmax(colsamples_scores)]\n",
    "print(f\"Best colsample: {best_colsample}\")"
   ]
  },
  {
   "cell_type": "markdown",
   "metadata": {},
   "source": [
    "### subsample"
   ]
  },
  {
   "cell_type": "code",
   "execution_count": 15,
   "metadata": {},
   "outputs": [
    {
     "name": "stderr",
     "output_type": "stream",
     "text": [
      "100%|█████████████████████████████████████████████| 8/8 [03:53<00:00, 29.21s/it]"
     ]
    },
    {
     "name": "stdout",
     "output_type": "stream",
     "text": [
      "Best subsample: 0.39999999999999997\n"
     ]
    },
    {
     "name": "stderr",
     "output_type": "stream",
     "text": [
      "\n"
     ]
    }
   ],
   "source": [
    "subsamples = np.linspace(0.3, 1.0, 8)\n",
    "subsamples_scores = []\n",
    "for subsample in tqdm(subsamples):\n",
    "    clf = MyGradientBoostingClassifier(subsample=subsample)\n",
    "    clf.fit(X_train, y_train)\n",
    "    subsamples_scores.append(accuracy_score(y_pred=clf.predict(X_val), y_true=y_val))\n",
    "\n",
    "best_subsample = subsamples[np.argmax(subsamples_scores)]\n",
    "print(f\"Best subsample: {best_subsample}\")"
   ]
  },
  {
   "cell_type": "markdown",
   "metadata": {},
   "source": [
    "### max depth"
   ]
  },
  {
   "cell_type": "code",
   "execution_count": 16,
   "metadata": {},
   "outputs": [
    {
     "name": "stderr",
     "output_type": "stream",
     "text": [
      "100%|█████████████████████████████████████████████| 7/7 [01:06<00:00,  9.56s/it]"
     ]
    },
    {
     "name": "stdout",
     "output_type": "stream",
     "text": [
      "Best max depth: 7\n"
     ]
    },
    {
     "name": "stderr",
     "output_type": "stream",
     "text": [
      "\n"
     ]
    }
   ],
   "source": [
    "max_depths = range(3, 10)\n",
    "max_depths_scores = []\n",
    "for max_depth in tqdm(max_depths):\n",
    "    clf = MyGradientBoostingClassifier(max_depth=max_depth)\n",
    "    clf.fit(X_train, y_train)\n",
    "    max_depths_scores.append(accuracy_score(y_pred=clf.predict(X_val), y_true=y_val))\n",
    "\n",
    "best_max_depth = max_depths[np.argmax(max_depths_scores)]\n",
    "print(f\"Best max depth: {best_max_depth}\")"
   ]
  },
  {
   "cell_type": "markdown",
   "metadata": {},
   "source": [
    "### Качество на подобранных параметрах"
   ]
  },
  {
   "cell_type": "code",
   "execution_count": 17,
   "metadata": {},
   "outputs": [
    {
     "data": {
      "text/plain": [
       "{'n_estimators': 50,\n",
       " 'loss': 'log',\n",
       " 'learning_rate': 0.2,\n",
       " 'colsample': 0.75,\n",
       " 'subsample': 0.39999999999999997,\n",
       " 'max_depth': 7}"
      ]
     },
     "execution_count": 17,
     "metadata": {},
     "output_type": "execute_result"
    }
   ],
   "source": [
    "best_params = {\n",
    "    \"n_estimators\": best_n_estimators,\n",
    "    \"loss\": best_loss,\n",
    "    \"learning_rate\": best_lr,\n",
    "    \"colsample\": best_colsample,\n",
    "    \"subsample\": best_subsample,\n",
    "    \"max_depth\": best_max_depth\n",
    "}\n",
    "best_params"
   ]
  },
  {
   "cell_type": "code",
   "execution_count": 18,
   "metadata": {},
   "outputs": [
    {
     "name": "stdout",
     "output_type": "stream",
     "text": [
      "accuracy: 0.8888081395348837\n"
     ]
    }
   ],
   "source": [
    "clf = MyGradientBoostingClassifier(**best_params)\n",
    "clf.fit(X_train, y_train)\n",
    "print(f\"accuracy: {accuracy_score(y_pred=clf.predict(X_val), y_true=y_val)}\")"
   ]
  },
  {
   "cell_type": "markdown",
   "metadata": {},
   "source": [
    "## BooBag BagBoo (1 балл)"
   ]
  },
  {
   "cell_type": "markdown",
   "metadata": {},
   "source": [
    "Попробуем объединить бустинг и бэггинг. Давайте\n",
    "\n",
    "1) в качестве базовой модели брать не дерево решений, а случайный лес (из sklearn)\n",
    "\n",
    "2) обучать N бустингов на бустрапированной выборке, а затем предикт усреднять"
   ]
  },
  {
   "cell_type": "markdown",
   "metadata": {},
   "source": [
    "Попробуйте обе этих стратегии на данных из прошлого задания. Получилось ли улучшить качество? Почему?"
   ]
  },
  {
   "cell_type": "code",
   "execution_count": 19,
   "metadata": {
    "jupyter": {
     "outputs_hidden": true
    }
   },
   "outputs": [
    {
     "name": "stdout",
     "output_type": "stream",
     "text": [
      "accuracy: 0.8817829457364341\n"
     ]
    }
   ],
   "source": [
    "# RandomForest as base model\n",
    "\n",
    "clf = MyGradientBoostingClassifier(n_estimators=10)\n",
    "clf.fit(X_train, y_train, base_model_cls=RandomForestRegressor)\n",
    "print(f\"accuracy: {accuracy_score(y_pred=clf.predict(X_val), y_true=y_val)}\")"
   ]
  },
  {
   "cell_type": "code",
   "execution_count": 20,
   "metadata": {
    "jupyter": {
     "outputs_hidden": true
    }
   },
   "outputs": [
    {
     "name": "stdout",
     "output_type": "stream",
     "text": [
      "accuracy: 0.8684593023255814\n"
     ]
    }
   ],
   "source": [
    "# Bagging on gradient boosting machines\n",
    "\n",
    "n_classifiers = 10\n",
    "classifiers = [MyGradientBoostingClassifier() for _ in range(n_classifiers)]\n",
    "for clf in classifiers:\n",
    "    samples_idx = np.random.permutation(X_train.shape[0])[:X_train.shape[0] // 2]\n",
    "    clf.fit(X_train[samples_idx, :], y_train[samples_idx])\n",
    "\n",
    "prediction = np.zeros(X_val.shape[0])\n",
    "for clf in classifiers:\n",
    "    prediction += clf.predict(X_val)\n",
    "prediction /= len(classifiers)\n",
    "prediction = np.round(prediction)\n",
    "\n",
    "print(f\"accuracy: {accuracy_score(y_pred=prediction, y_true=y_val)}\")"
   ]
  },
  {
   "cell_type": "markdown",
   "metadata": {},
   "source": [
    "В случае бустинга над случайными лесами качество увеличилось засчет того, что первый обученный случайный лес уже выдавал предсказание сильно лучше, чем одно единственное дерево решений:"
   ]
  },
  {
   "cell_type": "code",
   "execution_count": 21,
   "metadata": {},
   "outputs": [
    {
     "name": "stdout",
     "output_type": "stream",
     "text": [
      "accuracy: 0.877422480620155\n"
     ]
    }
   ],
   "source": [
    "reg = RandomForestRegressor()\n",
    "reg.fit(X_train, y_train)\n",
    "print(f\"accuracy: {accuracy_score(y_pred=np.round(reg.predict(X_val)), y_true=y_val)}\")"
   ]
  },
  {
   "cell_type": "markdown",
   "metadata": {},
   "source": [
    "В случае же бэггинга над бустингами, срабатывает идея бэггинга: ансамблирование большого числа слабых моделей увеличивает качество"
   ]
  },
  {
   "cell_type": "markdown",
   "metadata": {},
   "source": [
    "## Умная инициализация (1 балл)\n",
    "\n",
    "Попробуйте брать в качестве инициализации бустинга не константу, а какой-то алгоритм и уже от его предикта стартовать итерации бустинга. Попробуйте разные модели из sklearn: линейные модели, рандом форест, svm..\n",
    "\n",
    "Получилось ли улучшить качество? Почему?\n",
    "\n"
   ]
  },
  {
   "cell_type": "code",
   "execution_count": 22,
   "metadata": {
    "jupyter": {
     "outputs_hidden": true
    }
   },
   "outputs": [
    {
     "name": "stderr",
     "output_type": "stream",
     "text": [
      "100%|█████████████████████████████████████████████| 2/2 [00:10<00:00,  5.44s/it]"
     ]
    },
    {
     "name": "stdout",
     "output_type": "stream",
     "text": [
      "Best init model: RandomForestRegressor()\n"
     ]
    },
    {
     "name": "stderr",
     "output_type": "stream",
     "text": [
      "\n"
     ]
    }
   ],
   "source": [
    "models = [RandomForestRegressor(), SGDRegressor()]\n",
    "models_names = [\"RandomForest\", \"Linear regression\"]\n",
    "models_scores = []\n",
    "for model in tqdm(models):\n",
    "    clf = MyGradientBoostingClassifier(n_estimators=10)\n",
    "    clf.fit(X_train, y_train, init_model=model)\n",
    "    models_scores.append(accuracy_score(y_pred=clf.predict(X_val), y_true=y_val))\n",
    "\n",
    "print(f\"Best init model: {models[np.argmax(models_scores)]}\")"
   ]
  },
  {
   "cell_type": "code",
   "execution_count": 23,
   "metadata": {},
   "outputs": [
    {
     "data": {
      "text/html": [
       "<div>\n",
       "<style scoped>\n",
       "    .dataframe tbody tr th:only-of-type {\n",
       "        vertical-align: middle;\n",
       "    }\n",
       "\n",
       "    .dataframe tbody tr th {\n",
       "        vertical-align: top;\n",
       "    }\n",
       "\n",
       "    .dataframe thead th {\n",
       "        text-align: right;\n",
       "    }\n",
       "</style>\n",
       "<table border=\"1\" class=\"dataframe\">\n",
       "  <thead>\n",
       "    <tr style=\"text-align: right;\">\n",
       "      <th></th>\n",
       "      <th>models</th>\n",
       "      <th>scores</th>\n",
       "    </tr>\n",
       "  </thead>\n",
       "  <tbody>\n",
       "    <tr>\n",
       "      <th>0</th>\n",
       "      <td>RandomForest</td>\n",
       "      <td>0.823886</td>\n",
       "    </tr>\n",
       "    <tr>\n",
       "      <th>1</th>\n",
       "      <td>Linear regression</td>\n",
       "      <td>0.577762</td>\n",
       "    </tr>\n",
       "  </tbody>\n",
       "</table>\n",
       "</div>"
      ],
      "text/plain": [
       "              models    scores\n",
       "0       RandomForest  0.823886\n",
       "1  Linear regression  0.577762"
      ]
     },
     "execution_count": 23,
     "metadata": {},
     "output_type": "execute_result"
    }
   ],
   "source": [
    "pd.DataFrame({\"models\": models_names, \"scores\": models_scores})"
   ]
  },
  {
   "cell_type": "markdown",
   "metadata": {},
   "source": [
    "Да, качество увеличилось при использовании сильной начальной модели (случайный лес), при использовании же неподходящей для задачи модели (линейной), наблюдается уменьшение точности."
   ]
  },
  {
   "cell_type": "markdown",
   "metadata": {},
   "source": [
    "## Фидбек (бесценно)"
   ]
  },
  {
   "cell_type": "markdown",
   "metadata": {},
   "source": [
    "* Какие аспекты обучения  ансамблей Вам показались непонятными? Какое место стоит дополнительно объяснить?"
   ]
  },
  {
   "cell_type": "markdown",
   "metadata": {},
   "source": [
    "### Ваш ответ здесь"
   ]
  },
  {
   "cell_type": "markdown",
   "metadata": {},
   "source": [
    "* Здесь Вы можете оставить отзыв о этой домашней работе или о всем курсе."
   ]
  },
  {
   "cell_type": "markdown",
   "metadata": {},
   "source": [
    "### ВАШ ОТЗЫВ ЗДЕСЬ\n",
    "\n"
   ]
  },
  {
   "cell_type": "code",
   "execution_count": null,
   "metadata": {
    "jupyter": {
     "outputs_hidden": true
    }
   },
   "outputs": [],
   "source": []
  },
  {
   "cell_type": "code",
   "execution_count": null,
   "metadata": {
    "jupyter": {
     "outputs_hidden": true
    }
   },
   "outputs": [],
   "source": []
  }
 ],
 "metadata": {
  "anaconda-cloud": {},
  "kernelspec": {
   "display_name": "Python 3 (ipykernel)",
   "language": "python",
   "name": "python3"
  },
  "language_info": {
   "codemirror_mode": {
    "name": "ipython",
    "version": 3
   },
   "file_extension": ".py",
   "mimetype": "text/x-python",
   "name": "python",
   "nbconvert_exporter": "python",
   "pygments_lexer": "ipython3",
   "version": "3.8.8"
  }
 },
 "nbformat": 4,
 "nbformat_minor": 4
}
