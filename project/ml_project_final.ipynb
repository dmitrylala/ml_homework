{
  "nbformat": 4,
  "nbformat_minor": 0,
  "metadata": {
    "colab": {
      "name": "ml_project.ipynb",
      "provenance": [],
      "collapsed_sections": []
    },
    "kernelspec": {
      "name": "python3",
      "display_name": "Python 3"
    },
    "language_info": {
      "name": "python"
    },
    "gpuClass": "standard"
  },
  "cells": [
    {
      "cell_type": "code",
      "execution_count": null,
      "metadata": {
        "colab": {
          "base_uri": "https://localhost:8080/"
        },
        "id": "s8GC3l529bGs",
        "outputId": "dd658b04-8dca-4b14-8591-42e4ffe1c868"
      },
      "outputs": [
        {
          "output_type": "stream",
          "name": "stdout",
          "text": [
            "Mounted at /content/drive\n"
          ]
        }
      ],
      "source": [
        "from google.colab import drive\n",
        "drive.mount('/content/drive', force_remount=True)"
      ]
    },
    {
      "cell_type": "code",
      "source": [
        "!pip install gensim==4.2.0"
      ],
      "metadata": {
        "id": "uz7V9nT9fQCt"
      },
      "execution_count": null,
      "outputs": []
    },
    {
      "cell_type": "code",
      "source": [
        "import os\n",
        "import tqdm\n",
        "from typing import Dict, List\n",
        "from pathlib import Path\n",
        "from collections import defaultdict\n",
        "\n",
        "import numpy as np\n",
        "import pandas as pd\n",
        "from sklearn.feature_extraction.text import TfidfVectorizer, CountVectorizer\n",
        "from sklearn.metrics import f1_score\n",
        "from sklearn.metrics.pairwise import cosine_similarity\n",
        "from sklearn.model_selection import train_test_split\n",
        "\n",
        "import lightgbm as lgb\n",
        "\n",
        "from gensim.models import FastText, Word2Vec\n",
        "from gensim.models.doc2vec import Doc2Vec, TaggedDocument\n",
        "from gensim.test.utils import datapath\n",
        "from gensim import utils\n",
        "\n",
        "import warnings\n",
        "warnings.filterwarnings(\"ignore\")"
      ],
      "metadata": {
        "id": "r3joNrxf9r6Y"
      },
      "execution_count": 19,
      "outputs": []
    },
    {
      "cell_type": "code",
      "source": [
        "!unzip \"drive/MyDrive/ml_project/texts.zip\" -d \"drive/MyDrive/ml_project/texts\""
      ],
      "metadata": {
        "id": "NwHi19lDAImH"
      },
      "execution_count": null,
      "outputs": []
    },
    {
      "cell_type": "code",
      "source": [
        "PROJECT_DIR = Path(\"drive/MyDrive/ml_project/\")"
      ],
      "metadata": {
        "id": "6WjVEvv0cKvR"
      },
      "execution_count": 3,
      "outputs": []
    },
    {
      "cell_type": "code",
      "source": [
        "!ls $PROJECT_DIR"
      ],
      "metadata": {
        "colab": {
          "base_uri": "https://localhost:8080/"
        },
        "id": "ANSPDrL0dCPG",
        "outputId": "b9eee268-01f4-485f-e473-261bfd711233"
      },
      "execution_count": 4,
      "outputs": [
        {
          "output_type": "stream",
          "name": "stdout",
          "text": [
            "data  model.txt  predict.csv  texts  texts.zip\n"
          ]
        }
      ]
    },
    {
      "cell_type": "code",
      "source": [
        "csv_dir = PROJECT_DIR / \"data/\"\n",
        "train_path = csv_dir / \"train_groups.csv\"\n",
        "test_path = csv_dir / \"test_groups.csv\"\n",
        "texts_dir = PROJECT_DIR / \"texts/parsed\""
      ],
      "metadata": {
        "id": "iXQbHBkY948Y"
      },
      "execution_count": 5,
      "outputs": []
    },
    {
      "cell_type": "code",
      "source": [
        "train_groups = pd.read_csv(train_path)\n",
        "print(f\"train shape: {train_groups.shape}\")\n",
        "\n",
        "test_df = pd.read_csv(test_path)\n",
        "print(f\"test shape: {test_df.shape}\")\n",
        "\n",
        "train_groups.head()"
      ],
      "metadata": {
        "colab": {
          "base_uri": "https://localhost:8080/",
          "height": 238
        },
        "id": "UM6aClHQdZeq",
        "outputId": "5b497ea0-b5a5-4783-e94e-000fed70d2ec"
      },
      "execution_count": 6,
      "outputs": [
        {
          "output_type": "stream",
          "name": "stdout",
          "text": [
            "train shape: (11690, 4)\n",
            "test shape: (16627, 3)\n"
          ]
        },
        {
          "output_type": "execute_result",
          "data": {
            "text/plain": [
              "   pair_id  group_id  doc_id  target\n",
              "0        1         1   15731       0\n",
              "1        2         1   14829       0\n",
              "2        3         1   15764       0\n",
              "3        4         1   17669       0\n",
              "4        5         1   14852       0"
            ],
            "text/html": [
              "\n",
              "  <div id=\"df-83086656-8b56-4568-bd97-cdfcf3c5a9b9\">\n",
              "    <div class=\"colab-df-container\">\n",
              "      <div>\n",
              "<style scoped>\n",
              "    .dataframe tbody tr th:only-of-type {\n",
              "        vertical-align: middle;\n",
              "    }\n",
              "\n",
              "    .dataframe tbody tr th {\n",
              "        vertical-align: top;\n",
              "    }\n",
              "\n",
              "    .dataframe thead th {\n",
              "        text-align: right;\n",
              "    }\n",
              "</style>\n",
              "<table border=\"1\" class=\"dataframe\">\n",
              "  <thead>\n",
              "    <tr style=\"text-align: right;\">\n",
              "      <th></th>\n",
              "      <th>pair_id</th>\n",
              "      <th>group_id</th>\n",
              "      <th>doc_id</th>\n",
              "      <th>target</th>\n",
              "    </tr>\n",
              "  </thead>\n",
              "  <tbody>\n",
              "    <tr>\n",
              "      <th>0</th>\n",
              "      <td>1</td>\n",
              "      <td>1</td>\n",
              "      <td>15731</td>\n",
              "      <td>0</td>\n",
              "    </tr>\n",
              "    <tr>\n",
              "      <th>1</th>\n",
              "      <td>2</td>\n",
              "      <td>1</td>\n",
              "      <td>14829</td>\n",
              "      <td>0</td>\n",
              "    </tr>\n",
              "    <tr>\n",
              "      <th>2</th>\n",
              "      <td>3</td>\n",
              "      <td>1</td>\n",
              "      <td>15764</td>\n",
              "      <td>0</td>\n",
              "    </tr>\n",
              "    <tr>\n",
              "      <th>3</th>\n",
              "      <td>4</td>\n",
              "      <td>1</td>\n",
              "      <td>17669</td>\n",
              "      <td>0</td>\n",
              "    </tr>\n",
              "    <tr>\n",
              "      <th>4</th>\n",
              "      <td>5</td>\n",
              "      <td>1</td>\n",
              "      <td>14852</td>\n",
              "      <td>0</td>\n",
              "    </tr>\n",
              "  </tbody>\n",
              "</table>\n",
              "</div>\n",
              "      <button class=\"colab-df-convert\" onclick=\"convertToInteractive('df-83086656-8b56-4568-bd97-cdfcf3c5a9b9')\"\n",
              "              title=\"Convert this dataframe to an interactive table.\"\n",
              "              style=\"display:none;\">\n",
              "        \n",
              "  <svg xmlns=\"http://www.w3.org/2000/svg\" height=\"24px\"viewBox=\"0 0 24 24\"\n",
              "       width=\"24px\">\n",
              "    <path d=\"M0 0h24v24H0V0z\" fill=\"none\"/>\n",
              "    <path d=\"M18.56 5.44l.94 2.06.94-2.06 2.06-.94-2.06-.94-.94-2.06-.94 2.06-2.06.94zm-11 1L8.5 8.5l.94-2.06 2.06-.94-2.06-.94L8.5 2.5l-.94 2.06-2.06.94zm10 10l.94 2.06.94-2.06 2.06-.94-2.06-.94-.94-2.06-.94 2.06-2.06.94z\"/><path d=\"M17.41 7.96l-1.37-1.37c-.4-.4-.92-.59-1.43-.59-.52 0-1.04.2-1.43.59L10.3 9.45l-7.72 7.72c-.78.78-.78 2.05 0 2.83L4 21.41c.39.39.9.59 1.41.59.51 0 1.02-.2 1.41-.59l7.78-7.78 2.81-2.81c.8-.78.8-2.07 0-2.86zM5.41 20L4 18.59l7.72-7.72 1.47 1.35L5.41 20z\"/>\n",
              "  </svg>\n",
              "      </button>\n",
              "      \n",
              "  <style>\n",
              "    .colab-df-container {\n",
              "      display:flex;\n",
              "      flex-wrap:wrap;\n",
              "      gap: 12px;\n",
              "    }\n",
              "\n",
              "    .colab-df-convert {\n",
              "      background-color: #E8F0FE;\n",
              "      border: none;\n",
              "      border-radius: 50%;\n",
              "      cursor: pointer;\n",
              "      display: none;\n",
              "      fill: #1967D2;\n",
              "      height: 32px;\n",
              "      padding: 0 0 0 0;\n",
              "      width: 32px;\n",
              "    }\n",
              "\n",
              "    .colab-df-convert:hover {\n",
              "      background-color: #E2EBFA;\n",
              "      box-shadow: 0px 1px 2px rgba(60, 64, 67, 0.3), 0px 1px 3px 1px rgba(60, 64, 67, 0.15);\n",
              "      fill: #174EA6;\n",
              "    }\n",
              "\n",
              "    [theme=dark] .colab-df-convert {\n",
              "      background-color: #3B4455;\n",
              "      fill: #D2E3FC;\n",
              "    }\n",
              "\n",
              "    [theme=dark] .colab-df-convert:hover {\n",
              "      background-color: #434B5C;\n",
              "      box-shadow: 0px 1px 3px 1px rgba(0, 0, 0, 0.15);\n",
              "      filter: drop-shadow(0px 1px 2px rgba(0, 0, 0, 0.3));\n",
              "      fill: #FFFFFF;\n",
              "    }\n",
              "  </style>\n",
              "\n",
              "      <script>\n",
              "        const buttonEl =\n",
              "          document.querySelector('#df-83086656-8b56-4568-bd97-cdfcf3c5a9b9 button.colab-df-convert');\n",
              "        buttonEl.style.display =\n",
              "          google.colab.kernel.accessAllowed ? 'block' : 'none';\n",
              "\n",
              "        async function convertToInteractive(key) {\n",
              "          const element = document.querySelector('#df-83086656-8b56-4568-bd97-cdfcf3c5a9b9');\n",
              "          const dataTable =\n",
              "            await google.colab.kernel.invokeFunction('convertToInteractive',\n",
              "                                                     [key], {});\n",
              "          if (!dataTable) return;\n",
              "\n",
              "          const docLinkHtml = 'Like what you see? Visit the ' +\n",
              "            '<a target=\"_blank\" href=https://colab.research.google.com/notebooks/data_table.ipynb>data table notebook</a>'\n",
              "            + ' to learn more about interactive tables.';\n",
              "          element.innerHTML = '';\n",
              "          dataTable['output_type'] = 'display_data';\n",
              "          await google.colab.output.renderOutput(dataTable, element);\n",
              "          const docLink = document.createElement('div');\n",
              "          docLink.innerHTML = docLinkHtml;\n",
              "          element.appendChild(docLink);\n",
              "        }\n",
              "      </script>\n",
              "    </div>\n",
              "  </div>\n",
              "  "
            ]
          },
          "metadata": {},
          "execution_count": 6
        }
      ]
    },
    {
      "cell_type": "code",
      "source": [
        "val_size = 0.2\n",
        "group_thres = int(len(train_groups[\"group_id\"].unique()) * (1 - val_size))\n",
        "group_thres"
      ],
      "metadata": {
        "colab": {
          "base_uri": "https://localhost:8080/"
        },
        "id": "Bk94DxrKzy_j",
        "outputId": "633d0481-46fa-46f2-ce5d-357da9b74e84"
      },
      "execution_count": 7,
      "outputs": [
        {
          "output_type": "execute_result",
          "data": {
            "text/plain": [
              "103"
            ]
          },
          "metadata": {},
          "execution_count": 7
        }
      ]
    },
    {
      "cell_type": "code",
      "source": [
        "train_df = train_groups.loc[train_groups[\"group_id\"] <= group_thres]\n",
        "val_df = train_groups.loc[train_groups[\"group_id\"] > group_thres]"
      ],
      "metadata": {
        "id": "_nNwUM52g9xy"
      },
      "execution_count": 8,
      "outputs": []
    },
    {
      "cell_type": "markdown",
      "source": [
        "# Создание нового датасета"
      ],
      "metadata": {
        "id": "NQ98WSC0h6X_"
      }
    },
    {
      "cell_type": "code",
      "source": [
        "tfidf = TfidfVectorizer(input='filename').fit_transform(group_texts).todense()\n",
        "counts = CountVectorizer(input='filename').fit_transform(group_texts).todense()\n",
        "\n",
        "# getting top_n lowest and highest features\n",
        "counts_features = get_top_features(counts, top=n_counts)\n",
        "words_features = get_top_features(tfidf, top=n_words)\n",
        "\n",
        "# getting top_n lowest and highest cosine similarities between documents\n",
        "counts_cosine_features = get_top_cosine_features(counts, top=top_docs)\n",
        "tfidf_cosine_features = get_top_cosine_features(tfidf, top=top_docs)\n",
        "\n",
        "# row-wise proportion of zeros in tfidf\n",
        "tfidf_zeros_proportion = np.apply_along_axis(zeros_prop, 1, tfidf)\n",
        "\n",
        "features = np.hstack([\n",
        "    counts_features,\n",
        "    words_features,\n",
        "\n",
        "    counts_cosine_features,\n",
        "    tfidf_cosine_features,\n",
        "    tfidf_zeros_proportion.reshape(-1, 1)\n",
        "])"
      ],
      "metadata": {
        "id": "RJX9fHropzd-"
      },
      "execution_count": null,
      "outputs": []
    },
    {
      "cell_type": "code",
      "source": [
        "def get_texts_fnames(folder: Path) -> Dict[int, str]:\n",
        "    files = (fname for fname in os.listdir(folder) if fname.endswith('.txt'))\n",
        "    res = {}\n",
        "    for fname in tqdm.tqdm(files):\n",
        "        doc_id_str = fname.split('.')[0]\n",
        "        res[int(doc_id_str)] = folder / fname\n",
        "    return res\n",
        "\n",
        "\n",
        "def zeros_prop(arr):\n",
        "    new_arr = (arr > 1e-14).astype(int)\n",
        "    return np.sum(new_arr == 0) / len(new_arr)\n",
        "\n",
        "\n",
        "def get_top_features(matrix: np.ndarray, top: int):\n",
        "    rows_sorted = np.sort(matrix, axis=1)\n",
        "    top_features = np.hstack([rows_sorted[:, :top], rows_sorted[:, -top:]])\n",
        "    return top_features\n",
        "\n",
        "\n",
        "def get_top_cosine_features(matrix: np.ndarray, top: int):\n",
        "    cosine_sim = cosine_similarity(matrix)\n",
        "    cosine_sim -= np.eye(matrix.shape[0])\n",
        "    return get_top_features(cosine_sim, top)\n",
        "\n",
        "\n",
        "class IterFiles:\n",
        "    def __init__(self, files: List):\n",
        "        self.files = files\n",
        "    def __iter__(self):\n",
        "        for file in self.files:\n",
        "            with open(file, 'r', encoding='utf-8') as f:\n",
        "                line = f.readline()\n",
        "            yield line.split()\n",
        "\n",
        "\n",
        "def get_dataset(\n",
        "    df: pd.DataFrame, \n",
        "    texts: Dict[int, str],\n",
        "    top_docs: int=20,\n",
        "    n_counts: int=100,\n",
        "    n_words: int=1000,\n",
        "    has_target: bool=True\n",
        "):\n",
        "    X, y, groups = [], [], []\n",
        "    for group_id in tqdm.tqdm(df[\"group_id\"].unique()):\n",
        "        group = df.loc[df[\"group_id\"] == group_id]\n",
        "        n_docs = group.shape[0]\n",
        "\n",
        "        # vectorizers inference\n",
        "        group_texts = [texts[doc_id] for doc_id in group[\"doc_id\"]]\n",
        "        tfidf = TfidfVectorizer(input='filename').fit_transform(group_texts).todense()\n",
        "        counts = CountVectorizer(input='filename').fit_transform(group_texts).todense()\n",
        "\n",
        "        # getting top_n lowest and highest features\n",
        "        counts_features = get_top_features(counts, top=n_counts)\n",
        "        words_features = get_top_features(tfidf, top=n_words)\n",
        "\n",
        "        # getting top_n lowest and highest cosine similarities between documents\n",
        "        counts_cosine_features = get_top_cosine_features(counts, top=top_docs)\n",
        "        tfidf_cosine_features = get_top_cosine_features(tfidf, top=top_docs)\n",
        "\n",
        "        # row-wise proportion of zeros in tfidf\n",
        "        tfidf_zeros_proportion = np.apply_along_axis(zeros_prop, 1, tfidf)\n",
        "\n",
        "        # doc2vec features\n",
        "        documents = [TaggedDocument(doc, [i]) for i, doc in enumerate(IterFiles(group_texts))]\n",
        "        model = Doc2Vec(documents, vector_size=500, window=10, min_count=1, workers=8, epochs=2)\n",
        "        doc2vec_features = np.vstack([model.docvecs[i] for i in range(n_docs)])\n",
        "\n",
        "        doc2vec_cosine_features = get_top_cosine_features(counts, top=top_docs)\n",
        "\n",
        "        features = np.hstack([\n",
        "            counts_features,\n",
        "            counts_cosine_features,\n",
        "\n",
        "            words_features,\n",
        "            tfidf_cosine_features,\n",
        "            tfidf_zeros_proportion.reshape(-1, 1),\n",
        "\n",
        "            doc2vec_features,\n",
        "            doc2vec_cosine_features\n",
        "        ])\n",
        "\n",
        "        X.append(np.copy(features))\n",
        "        groups.append(np.copy([group_id] * n_docs))\n",
        "        if has_target:\n",
        "            y.append(group[\"target\"])\n",
        "\n",
        "    X = np.vstack(X)\n",
        "    groups = np.hstack(groups)\n",
        "\n",
        "    if has_target:\n",
        "        y = np.hstack(y)\n",
        "        print(X.shape, y.shape, groups.shape)\n",
        "        return X, y, groups\n",
        "    else:\n",
        "        print(X.shape, groups.shape)\n",
        "        return X, groups"
      ],
      "metadata": {
        "id": "xn2-s4Uih7iH"
      },
      "execution_count": 65,
      "outputs": []
    },
    {
      "cell_type": "code",
      "source": [
        "doc_to_text = get_texts_fnames(texts_dir)"
      ],
      "metadata": {
        "colab": {
          "base_uri": "https://localhost:8080/"
        },
        "id": "_D2ZoYaoiBed",
        "outputId": "9b7deeaf-4403-4e3b-9351-8e72cfbbb0ac"
      },
      "execution_count": 66,
      "outputs": [
        {
          "output_type": "stream",
          "name": "stderr",
          "text": [
            "28026it [00:00, 40697.04it/s]\n"
          ]
        }
      ]
    },
    {
      "cell_type": "code",
      "source": [
        "X_train, y_train, _ = get_dataset(train_df, doc_to_text)"
      ],
      "metadata": {
        "colab": {
          "base_uri": "https://localhost:8080/"
        },
        "id": "vkKhWrCFiBhN",
        "outputId": "32ba2c73-fd7c-4154-e165-427c72b9345e"
      },
      "execution_count": 67,
      "outputs": [
        {
          "output_type": "stream",
          "name": "stderr",
          "text": [
            "100%|██████████| 103/103 [09:27<00:00,  5.51s/it]"
          ]
        },
        {
          "output_type": "stream",
          "name": "stdout",
          "text": [
            "(9309, 2821) (9309,) (9309,)\n"
          ]
        },
        {
          "output_type": "stream",
          "name": "stderr",
          "text": [
            "\n"
          ]
        }
      ]
    },
    {
      "cell_type": "code",
      "source": [
        "X_val, y_val, _ = get_dataset(val_df, doc_to_text)"
      ],
      "metadata": {
        "colab": {
          "base_uri": "https://localhost:8080/"
        },
        "id": "zIdyciZOiBjy",
        "outputId": "39ab869f-ca4c-48b6-d51c-4234ddc9a04b"
      },
      "execution_count": 68,
      "outputs": [
        {
          "output_type": "stream",
          "name": "stderr",
          "text": [
            "100%|██████████| 26/26 [01:47<00:00,  4.15s/it]"
          ]
        },
        {
          "output_type": "stream",
          "name": "stdout",
          "text": [
            "(2381, 2821) (2381,) (2381,)\n"
          ]
        },
        {
          "output_type": "stream",
          "name": "stderr",
          "text": [
            "\n"
          ]
        }
      ]
    },
    {
      "cell_type": "code",
      "source": [
        "train_data = lgb.Dataset(X_train, label=y_train)\n",
        "val_data = lgb.Dataset(X_val, label=y_val, reference=train_data)"
      ],
      "metadata": {
        "id": "hwk36LOBmeZa"
      },
      "execution_count": 69,
      "outputs": []
    },
    {
      "cell_type": "code",
      "source": [
        "params = {\n",
        "    'num_leaves': 31,\n",
        "    'objective': 'binary',\n",
        "    'metric': ['auc']\n",
        "}\n",
        "\n",
        "num_round = 100\n",
        "\n",
        "bst = lgb.train(\n",
        "    params, \n",
        "    train_data, \n",
        "    num_round, \n",
        "    valid_sets=[val_data], \n",
        "    # callbacks=[lgb.early_stopping(stopping_rounds=5)]\n",
        ")"
      ],
      "metadata": {
        "colab": {
          "base_uri": "https://localhost:8080/"
        },
        "id": "QoJMrXoMmecV",
        "outputId": "d7423b4b-5699-48cb-b1ad-e48ffb47f79d"
      },
      "execution_count": 77,
      "outputs": [
        {
          "output_type": "stream",
          "name": "stdout",
          "text": [
            "[1]\tvalid_0's auc: 0.818649\n",
            "[2]\tvalid_0's auc: 0.8497\n",
            "[3]\tvalid_0's auc: 0.8631\n",
            "[4]\tvalid_0's auc: 0.870112\n",
            "[5]\tvalid_0's auc: 0.879689\n",
            "[6]\tvalid_0's auc: 0.883112\n",
            "[7]\tvalid_0's auc: 0.887322\n",
            "[8]\tvalid_0's auc: 0.891125\n",
            "[9]\tvalid_0's auc: 0.895862\n",
            "[10]\tvalid_0's auc: 0.897496\n",
            "[11]\tvalid_0's auc: 0.899625\n",
            "[12]\tvalid_0's auc: 0.901346\n",
            "[13]\tvalid_0's auc: 0.901701\n",
            "[14]\tvalid_0's auc: 0.903043\n",
            "[15]\tvalid_0's auc: 0.904699\n",
            "[16]\tvalid_0's auc: 0.906349\n",
            "[17]\tvalid_0's auc: 0.908513\n",
            "[18]\tvalid_0's auc: 0.910094\n",
            "[19]\tvalid_0's auc: 0.911336\n",
            "[20]\tvalid_0's auc: 0.912955\n",
            "[21]\tvalid_0's auc: 0.914478\n",
            "[22]\tvalid_0's auc: 0.914948\n",
            "[23]\tvalid_0's auc: 0.9155\n",
            "[24]\tvalid_0's auc: 0.914689\n",
            "[25]\tvalid_0's auc: 0.915309\n",
            "[26]\tvalid_0's auc: 0.916332\n",
            "[27]\tvalid_0's auc: 0.916842\n",
            "[28]\tvalid_0's auc: 0.916761\n",
            "[29]\tvalid_0's auc: 0.916921\n",
            "[30]\tvalid_0's auc: 0.917289\n",
            "[31]\tvalid_0's auc: 0.917766\n",
            "[32]\tvalid_0's auc: 0.918299\n",
            "[33]\tvalid_0's auc: 0.918525\n",
            "[34]\tvalid_0's auc: 0.919412\n",
            "[35]\tvalid_0's auc: 0.919837\n",
            "[36]\tvalid_0's auc: 0.920255\n",
            "[37]\tvalid_0's auc: 0.920641\n",
            "[38]\tvalid_0's auc: 0.92069\n",
            "[39]\tvalid_0's auc: 0.921323\n",
            "[40]\tvalid_0's auc: 0.921063\n",
            "[41]\tvalid_0's auc: 0.92173\n",
            "[42]\tvalid_0's auc: 0.921773\n",
            "[43]\tvalid_0's auc: 0.9215\n",
            "[44]\tvalid_0's auc: 0.921547\n",
            "[45]\tvalid_0's auc: 0.921436\n",
            "[46]\tvalid_0's auc: 0.921481\n",
            "[47]\tvalid_0's auc: 0.921549\n",
            "[48]\tvalid_0's auc: 0.921239\n",
            "[49]\tvalid_0's auc: 0.92122\n",
            "[50]\tvalid_0's auc: 0.921448\n",
            "[51]\tvalid_0's auc: 0.921414\n",
            "[52]\tvalid_0's auc: 0.921874\n",
            "[53]\tvalid_0's auc: 0.921857\n",
            "[54]\tvalid_0's auc: 0.921665\n",
            "[55]\tvalid_0's auc: 0.92188\n",
            "[56]\tvalid_0's auc: 0.922319\n",
            "[57]\tvalid_0's auc: 0.922234\n",
            "[58]\tvalid_0's auc: 0.922194\n",
            "[59]\tvalid_0's auc: 0.921165\n",
            "[60]\tvalid_0's auc: 0.921209\n",
            "[61]\tvalid_0's auc: 0.921228\n",
            "[62]\tvalid_0's auc: 0.92117\n",
            "[63]\tvalid_0's auc: 0.921604\n",
            "[64]\tvalid_0's auc: 0.921633\n",
            "[65]\tvalid_0's auc: 0.92137\n",
            "[66]\tvalid_0's auc: 0.921202\n",
            "[67]\tvalid_0's auc: 0.921397\n",
            "[68]\tvalid_0's auc: 0.921802\n",
            "[69]\tvalid_0's auc: 0.921673\n",
            "[70]\tvalid_0's auc: 0.921838\n",
            "[71]\tvalid_0's auc: 0.921727\n",
            "[72]\tvalid_0's auc: 0.921664\n",
            "[73]\tvalid_0's auc: 0.921984\n",
            "[74]\tvalid_0's auc: 0.921634\n",
            "[75]\tvalid_0's auc: 0.921666\n",
            "[76]\tvalid_0's auc: 0.921654\n",
            "[77]\tvalid_0's auc: 0.921719\n",
            "[78]\tvalid_0's auc: 0.921753\n",
            "[79]\tvalid_0's auc: 0.921782\n",
            "[80]\tvalid_0's auc: 0.922036\n",
            "[81]\tvalid_0's auc: 0.922162\n",
            "[82]\tvalid_0's auc: 0.922066\n",
            "[83]\tvalid_0's auc: 0.922337\n",
            "[84]\tvalid_0's auc: 0.922275\n",
            "[85]\tvalid_0's auc: 0.9221\n",
            "[86]\tvalid_0's auc: 0.922376\n",
            "[87]\tvalid_0's auc: 0.922406\n",
            "[88]\tvalid_0's auc: 0.922377\n",
            "[89]\tvalid_0's auc: 0.922579\n",
            "[90]\tvalid_0's auc: 0.922436\n",
            "[91]\tvalid_0's auc: 0.922332\n",
            "[92]\tvalid_0's auc: 0.922378\n",
            "[93]\tvalid_0's auc: 0.922523\n",
            "[94]\tvalid_0's auc: 0.922538\n",
            "[95]\tvalid_0's auc: 0.922587\n",
            "[96]\tvalid_0's auc: 0.922425\n",
            "[97]\tvalid_0's auc: 0.922248\n",
            "[98]\tvalid_0's auc: 0.922292\n",
            "[99]\tvalid_0's auc: 0.922248\n",
            "[100]\tvalid_0's auc: 0.922283\n"
          ]
        }
      ]
    },
    {
      "cell_type": "code",
      "source": [
        "thresholds = np.linspace(0.01, 1.0, 100)\n",
        "f1_scores = []\n",
        "for thres in thresholds:\n",
        "    predicts = (bst.predict(X_val, num_iterarion=bst.best_iteration) > thres).astype(int)\n",
        "    f1_scores.append(f1_score(y_val, predicts))\n",
        "\n",
        "best_score_idx = np.argmax(f1_scores)\n",
        "best_thres = thresholds[best_score_idx]\n",
        "print(f\"Best score: {f1_scores[best_score_idx]}, best thres: {best_thres}\")"
      ],
      "metadata": {
        "colab": {
          "base_uri": "https://localhost:8080/"
        },
        "id": "t_i1cfbN1bVH",
        "outputId": "a5c4386c-fa41-42fc-f8b4-aba59a2dd916"
      },
      "execution_count": 78,
      "outputs": [
        {
          "output_type": "stream",
          "name": "stdout",
          "text": [
            "Best score: 0.7974463145676145, best thres: 0.34\n"
          ]
        }
      ]
    },
    {
      "cell_type": "code",
      "source": [
        "# retraining on all train data\n",
        "train_data = lgb.Dataset(np.vstack([X_train, X_val]), label=np.hstack([y_train, y_val]))"
      ],
      "metadata": {
        "id": "P6KhPFJIS1CY"
      },
      "execution_count": 79,
      "outputs": []
    },
    {
      "cell_type": "code",
      "source": [
        "params = {\n",
        "    'num_leaves': 31,\n",
        "    'objective': 'binary',\n",
        "    'metric': ['auc']\n",
        "}\n",
        "\n",
        "num_round = 100\n",
        "\n",
        "bst = lgb.train(\n",
        "    params, \n",
        "    train_data, \n",
        "    num_round\n",
        ")"
      ],
      "metadata": {
        "id": "0oH9WfV25f2t"
      },
      "execution_count": 80,
      "outputs": []
    },
    {
      "cell_type": "code",
      "source": [
        "bst.save_model(str(PROJECT_DIR / \"model.txt\"), num_iteration=bst.best_iteration)"
      ],
      "metadata": {
        "colab": {
          "base_uri": "https://localhost:8080/"
        },
        "id": "qmiemSZY2LpE",
        "outputId": "fe0da5b2-d1eb-4e57-9a6f-117fc930bafb"
      },
      "execution_count": 81,
      "outputs": [
        {
          "output_type": "execute_result",
          "data": {
            "text/plain": [
              "<lightgbm.basic.Booster at 0x7f94c4a685d0>"
            ]
          },
          "metadata": {},
          "execution_count": 81
        }
      ]
    },
    {
      "cell_type": "code",
      "source": [
        "!cat $PROJECT_DIR/model.txt"
      ],
      "metadata": {
        "id": "jX6UuM_7uJqG"
      },
      "execution_count": null,
      "outputs": []
    },
    {
      "cell_type": "markdown",
      "source": [
        "# Получение предсказаний"
      ],
      "metadata": {
        "id": "jlVKTbO7qr_3"
      }
    },
    {
      "cell_type": "code",
      "source": [
        "del X_train, y_train, X_val, y_val, train_data, val_data"
      ],
      "metadata": {
        "id": "Tm91dR6J2Djw"
      },
      "execution_count": null,
      "outputs": []
    },
    {
      "cell_type": "code",
      "source": [
        "bst = lgb.Booster(model_file=str(PROJECT_DIR / \"model.txt\"))"
      ],
      "metadata": {
        "id": "S7qqdzM22tWi"
      },
      "execution_count": null,
      "outputs": []
    },
    {
      "cell_type": "code",
      "source": [
        "X_test, _ = get_dataset(test_df, doc_to_text, has_target=False)"
      ],
      "metadata": {
        "colab": {
          "base_uri": "https://localhost:8080/"
        },
        "id": "WgnCx_QKqtvO",
        "outputId": "837c033a-9d02-4a46-f036-1d337adccdac"
      },
      "execution_count": 76,
      "outputs": [
        {
          "output_type": "stream",
          "name": "stderr",
          "text": [
            "100%|██████████| 180/180 [17:00<00:00,  5.67s/it]"
          ]
        },
        {
          "output_type": "stream",
          "name": "stdout",
          "text": [
            "(16627, 2821) (16627,)\n"
          ]
        },
        {
          "output_type": "stream",
          "name": "stderr",
          "text": [
            "\n"
          ]
        }
      ]
    },
    {
      "cell_type": "code",
      "source": [
        "best_thres = 0.35\n",
        "y_pred = (bst.predict(X_test, num_iterarion=bst.best_iteration) > best_thres).astype(int)"
      ],
      "metadata": {
        "id": "QIx8sNNA2Jsx"
      },
      "execution_count": 83,
      "outputs": []
    },
    {
      "cell_type": "code",
      "source": [
        "pairs = test_df['pair_id']\n",
        "\n",
        "with open(PROJECT_DIR / \"predict.csv\", 'wb') as f:\n",
        "    f.write(bytes(str(\"pair_id,target\\n\"), \"utf-8\"))\n",
        "    for i, pair in enumerate(pairs):\n",
        "        f.write(bytes(str(pair) + \",\" + str(y_pred[i]) + str('\\n'), \"utf-8\"))"
      ],
      "metadata": {
        "id": "F8B4VhXG2Jw2"
      },
      "execution_count": 84,
      "outputs": []
    },
    {
      "cell_type": "code",
      "source": [
        "!cat $PROJECT_DIR/predict.csv"
      ],
      "metadata": {
        "id": "5ApJgaVKnTRN"
      },
      "execution_count": null,
      "outputs": []
    },
    {
      "cell_type": "code",
      "source": [
        ""
      ],
      "metadata": {
        "id": "Esn6EKhKquMF"
      },
      "execution_count": null,
      "outputs": []
    }
  ]
}