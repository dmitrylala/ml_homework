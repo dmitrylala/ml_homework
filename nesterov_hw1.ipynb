{
 "cells": [
  {
   "cell_type": "markdown",
   "metadata": {},
   "source": [
    "## Общая информация\n",
    "\n",
    "**Срок сдачи:** 5 апреля 2022, 08:30 \n",
    "\n",
    "**Штраф за опоздание:** по 1 баллу за 24 часа задержки. Через 5 дней домашнее задание сгорает.\n",
    "\n",
    "При отправлении ДЗ указывайте фамилию в названии файла\n",
    "Присылать ДЗ необходимо в виде ссылки на свой github репозиторий на почту ml1.sphere@mail.ru с указанием темы в следующем формате:\n",
    "\n",
    "[ML0220, Задание 1] Фамилия Имя.\n",
    "\n",
    "Используйте данный Ipython Notebook при оформлении домашнего задания."
   ]
  },
  {
   "cell_type": "markdown",
   "metadata": {},
   "source": [
    "\n",
    "**Штрафные баллы:**\n",
    "\n",
    "1. Отсутствие фамилии в имени скрипта (скрипт должен называться по аналогии со stroykova_hw1.ipynb) -0.5 баллов\n",
    "2. Все строчки должны быть выполнены. Нужно, чтобы output команды можно было увидеть уже в git'е. В противном случае -0.5 баллов\n"
   ]
  },
  {
   "cell_type": "code",
   "execution_count": 1,
   "metadata": {
    "jupyter": {
     "outputs_hidden": true
    }
   },
   "outputs": [],
   "source": [
    "from collections import defaultdict\n",
    "\n",
    "import numpy as np\n",
    "import matplotlib.pyplot as plt\n",
    "\n",
    "import seaborn as sns\n",
    "from sklearn import datasets\n",
    "from sklearn.base import BaseEstimator\n",
    "from sklearn.datasets import fetch_openml, fetch_20newsgroups\n",
    "\n",
    "from sklearn.model_selection import train_test_split, KFold\n",
    "from sklearn.neighbors import KNeighborsClassifier, KDTree\n",
    "from sklearn.metrics import accuracy_score\n",
    "from sklearn.feature_extraction.text import CountVectorizer, TfidfVectorizer\n",
    "\n",
    "from scipy.spatial import distance"
   ]
  },
  {
   "cell_type": "markdown",
   "metadata": {},
   "source": [
    "На всякий случай, приведу здесь использованную при решении задания версию sklearn, поскольку импорт\n",
    "```python\n",
    "from sklearn.datasets import fetch_mldata\n",
    "```\n",
    "не работает, я заменил его на\n",
    "```python\n",
    "from sklearn.datasets import fetch_openml\n",
    "```\n",
    "Версия sklearn: 1.0.2"
   ]
  },
  {
   "cell_type": "markdown",
   "metadata": {},
   "source": [
    "### Задание 1 (1 балл)\n",
    "Реализовать KNN в классе MyKNeighborsClassifier (обязательное условие: точность не ниже sklearn реализации)\n",
    "Разберитесь самостоятельно, какая мера расстояния используется в KNeighborsClassifier дефолтно и реализуйте свой алгоритм именно с этой мерой. \n",
    "Для подсчета расстояний можно использовать функции [отсюда](https://docs.scipy.org/doc/scipy/reference/spatial.distance.html)"
   ]
  },
  {
   "cell_type": "code",
   "execution_count": 2,
   "metadata": {
    "jupyter": {
     "outputs_hidden": true
    }
   },
   "outputs": [],
   "source": [
    "class MyKNeighborsClassifier(BaseEstimator):\n",
    "    \"\"\"\n",
    "    Realization of kNN classifier\n",
    "    \"\"\"\n",
    "    def __init__(self, n_neighbors, algorithm='brute', leaf_size=30):        \n",
    "        self.__n_neighbors = n_neighbors\n",
    "        self.__algorithm = algorithm\n",
    "        self.__leaf_size = 30\n",
    "        self._tree = None\n",
    "    \n",
    "    @property\n",
    "    def n_neighbors(self):\n",
    "        return self.__n_neighbors\n",
    "    \n",
    "    @property\n",
    "    def algorithm(self):\n",
    "        return self.__algorithm\n",
    "    \n",
    "    @property\n",
    "    def leaf_size(self):\n",
    "        return self.__leaf_size\n",
    "    \n",
    "    def fit(self, X, y):\n",
    "        self.__X_train = X\n",
    "        self.__y_train = y\n",
    "        if self.algorithm == 'kd_tree':\n",
    "            self.__tree = KDTree(X, leaf_size=self.leaf_size)\n",
    "            \n",
    "        \n",
    "    def predict(self, X):\n",
    "        predicts = np.zeros((X.shape[0]), dtype='int')\n",
    "\n",
    "        if self.algorithm == 'brute':        \n",
    "            for i, x in enumerate(X):\n",
    "                distances = distance.cdist(self.__X_train, x.reshape(1, -1)).flatten()\n",
    "                nn_indices = np.argsort(distances)[:self.n_neighbors]\n",
    "                label = np.argmax(np.bincount(self.__y_train[nn_indices]))\n",
    "                predicts[i] = label\n",
    "        elif self.algorithm == 'kd_tree':\n",
    "            indices = self.__tree.query(X, k=self.n_neighbors, return_distance=False)\n",
    "            for i, idx in enumerate(indices):\n",
    "                label = np.argmax(np.bincount(self.__y_train[idx]))\n",
    "                predicts[i] = label\n",
    "        \n",
    "        return predicts"
   ]
  },
  {
   "cell_type": "markdown",
   "metadata": {},
   "source": [
    "**IRIS**\n",
    "\n",
    "В библиотеке scikit-learn есть несколько датасетов из коробки. Один из них [Ирисы Фишера](https://ru.wikipedia.org/wiki/%D0%98%D1%80%D0%B8%D1%81%D1%8B_%D0%A4%D0%B8%D1%88%D0%B5%D1%80%D0%B0)"
   ]
  },
  {
   "cell_type": "code",
   "execution_count": 3,
   "metadata": {
    "jupyter": {
     "outputs_hidden": true
    }
   },
   "outputs": [],
   "source": [
    "iris = datasets.load_iris()"
   ]
  },
  {
   "cell_type": "code",
   "execution_count": 4,
   "metadata": {
    "jupyter": {
     "outputs_hidden": true
    }
   },
   "outputs": [],
   "source": [
    "X_train, X_test, y_train, y_test = train_test_split(iris.data, iris.target, test_size=0.1, stratify=iris.target)"
   ]
  },
  {
   "cell_type": "code",
   "execution_count": 5,
   "metadata": {
    "jupyter": {
     "outputs_hidden": true
    }
   },
   "outputs": [],
   "source": [
    "clf = KNeighborsClassifier(n_neighbors=2, algorithm='brute')\n",
    "my_clf = MyKNeighborsClassifier(n_neighbors=2, algorithm='brute')"
   ]
  },
  {
   "cell_type": "code",
   "execution_count": 6,
   "metadata": {
    "jupyter": {
     "outputs_hidden": true
    }
   },
   "outputs": [],
   "source": [
    "clf.fit(X_train, y_train)\n",
    "my_clf.fit(X_train, y_train)"
   ]
  },
  {
   "cell_type": "code",
   "execution_count": 7,
   "metadata": {
    "jupyter": {
     "outputs_hidden": true
    },
    "scrolled": false
   },
   "outputs": [],
   "source": [
    "sklearn_pred = clf.predict(X_test)\n",
    "my_clf_pred = my_clf.predict(X_test)\n",
    "assert abs(accuracy_score(y_test, my_clf_pred) -  accuracy_score(y_test, sklearn_pred)) < 0.005, \"Score must be simillar\""
   ]
  },
  {
   "cell_type": "markdown",
   "metadata": {},
   "source": [
    "### Задание 2 (0.5 балла)\n",
    "\n",
    "Давайте попробуем добиться скорости работы на fit, predict сравнимой со sklearn для iris. Допускается замедление не более чем в 2 раза. \n",
    "Для этого используем numpy. "
   ]
  },
  {
   "cell_type": "code",
   "execution_count": 8,
   "metadata": {
    "jupyter": {
     "outputs_hidden": true
    }
   },
   "outputs": [
    {
     "name": "stdout",
     "output_type": "stream",
     "text": [
      "CPU times: user 565 µs, sys: 135 µs, total: 700 µs\n",
      "Wall time: 607 µs\n"
     ]
    },
    {
     "data": {
      "text/plain": [
       "KNeighborsClassifier(algorithm='brute', n_neighbors=2)"
      ]
     },
     "execution_count": 8,
     "metadata": {},
     "output_type": "execute_result"
    }
   ],
   "source": [
    "%time clf.fit(X_train, y_train)"
   ]
  },
  {
   "cell_type": "code",
   "execution_count": 9,
   "metadata": {
    "jupyter": {
     "outputs_hidden": true
    }
   },
   "outputs": [
    {
     "name": "stdout",
     "output_type": "stream",
     "text": [
      "CPU times: user 8 µs, sys: 1 µs, total: 9 µs\n",
      "Wall time: 11.9 µs\n"
     ]
    }
   ],
   "source": [
    "%time my_clf.fit(X_train, y_train)"
   ]
  },
  {
   "cell_type": "code",
   "execution_count": 10,
   "metadata": {
    "jupyter": {
     "outputs_hidden": true
    }
   },
   "outputs": [
    {
     "name": "stdout",
     "output_type": "stream",
     "text": [
      "CPU times: user 2.99 ms, sys: 2.15 ms, total: 5.14 ms\n",
      "Wall time: 3.28 ms\n"
     ]
    },
    {
     "data": {
      "text/plain": [
       "array([1, 1, 0, 2, 1, 0, 2, 0, 1, 1, 0, 2, 2, 0, 2])"
      ]
     },
     "execution_count": 10,
     "metadata": {},
     "output_type": "execute_result"
    }
   ],
   "source": [
    "%time clf.predict(X_test)"
   ]
  },
  {
   "cell_type": "code",
   "execution_count": 11,
   "metadata": {
    "jupyter": {
     "outputs_hidden": true
    }
   },
   "outputs": [
    {
     "name": "stdout",
     "output_type": "stream",
     "text": [
      "CPU times: user 1.79 ms, sys: 1.49 ms, total: 3.28 ms\n",
      "Wall time: 1.98 ms\n"
     ]
    },
    {
     "data": {
      "text/plain": [
       "array([1, 1, 0, 2, 1, 0, 2, 0, 1, 1, 0, 2, 2, 0, 2])"
      ]
     },
     "execution_count": 11,
     "metadata": {},
     "output_type": "execute_result"
    }
   ],
   "source": [
    "%time my_clf.predict(X_test)"
   ]
  },
  {
   "cell_type": "markdown",
   "metadata": {},
   "source": [
    "### Задание 3 (1 балл)\n",
    "Добавьте algorithm='kd_tree' в реализацию KNN (использовать KDTree из sklearn.neighbors). Необходимо добиться скорости работы на fit,  predict сравнимой со sklearn для iris. Допускается замедление не более чем в 2 раза. \n",
    "Для этого используем numpy. Точность не должна уступать значению KNN из sklearn. "
   ]
  },
  {
   "cell_type": "code",
   "execution_count": 12,
   "metadata": {
    "jupyter": {
     "outputs_hidden": true
    }
   },
   "outputs": [],
   "source": [
    "clf = KNeighborsClassifier(n_neighbors=2, algorithm='kd_tree')\n",
    "my_clf = MyKNeighborsClassifier(n_neighbors=2, algorithm='kd_tree')"
   ]
  },
  {
   "cell_type": "code",
   "execution_count": 13,
   "metadata": {
    "jupyter": {
     "outputs_hidden": true
    }
   },
   "outputs": [],
   "source": [
    "X_train, X_test, y_train, y_test = train_test_split(iris.data, iris.target, test_size=0.1, stratify=iris.target)"
   ]
  },
  {
   "cell_type": "code",
   "execution_count": 14,
   "metadata": {
    "jupyter": {
     "outputs_hidden": true
    }
   },
   "outputs": [
    {
     "name": "stdout",
     "output_type": "stream",
     "text": [
      "CPU times: user 1.18 ms, sys: 1.36 ms, total: 2.54 ms\n",
      "Wall time: 3.2 ms\n"
     ]
    },
    {
     "data": {
      "text/plain": [
       "KNeighborsClassifier(algorithm='kd_tree', n_neighbors=2)"
      ]
     },
     "execution_count": 14,
     "metadata": {},
     "output_type": "execute_result"
    }
   ],
   "source": [
    "%time clf.fit(X_train, y_train)"
   ]
  },
  {
   "cell_type": "code",
   "execution_count": 15,
   "metadata": {
    "jupyter": {
     "outputs_hidden": true
    }
   },
   "outputs": [
    {
     "name": "stdout",
     "output_type": "stream",
     "text": [
      "CPU times: user 236 µs, sys: 21 µs, total: 257 µs\n",
      "Wall time: 243 µs\n"
     ]
    }
   ],
   "source": [
    "%time my_clf.fit(X_train, y_train)"
   ]
  },
  {
   "cell_type": "code",
   "execution_count": 16,
   "metadata": {
    "jupyter": {
     "outputs_hidden": true
    }
   },
   "outputs": [
    {
     "name": "stdout",
     "output_type": "stream",
     "text": [
      "CPU times: user 2.72 ms, sys: 1.67 ms, total: 4.39 ms\n",
      "Wall time: 3.69 ms\n"
     ]
    },
    {
     "data": {
      "text/plain": [
       "array([0, 2, 2, 0, 0, 1, 1, 2, 0, 1, 0, 1, 1, 2, 1])"
      ]
     },
     "execution_count": 16,
     "metadata": {},
     "output_type": "execute_result"
    }
   ],
   "source": [
    "%time clf.predict(X_test)"
   ]
  },
  {
   "cell_type": "code",
   "execution_count": 17,
   "metadata": {
    "jupyter": {
     "outputs_hidden": true
    }
   },
   "outputs": [
    {
     "name": "stdout",
     "output_type": "stream",
     "text": [
      "CPU times: user 891 µs, sys: 957 µs, total: 1.85 ms\n",
      "Wall time: 1.04 ms\n"
     ]
    },
    {
     "data": {
      "text/plain": [
       "array([0, 2, 2, 0, 0, 1, 1, 2, 0, 1, 0, 1, 1, 2, 1])"
      ]
     },
     "execution_count": 17,
     "metadata": {},
     "output_type": "execute_result"
    }
   ],
   "source": [
    "%time my_clf.predict(X_test)"
   ]
  },
  {
   "cell_type": "code",
   "execution_count": 18,
   "metadata": {
    "jupyter": {
     "outputs_hidden": true
    }
   },
   "outputs": [],
   "source": [
    "sklearn_pred = clf.predict(X_test)\n",
    "my_clf_pred = my_clf.predict(X_test)\n",
    "assert abs(accuracy_score(y_test, my_clf_pred) -  accuracy_score(y_test, sklearn_pred)) < 0.005, \"Score must be simillar\""
   ]
  },
  {
   "cell_type": "markdown",
   "metadata": {},
   "source": [
    "### Задание 4 (2.5 балла)\n",
    "\n",
    "Рассмотрим новый датасет 20 newsgroups"
   ]
  },
  {
   "cell_type": "code",
   "execution_count": 19,
   "metadata": {
    "jupyter": {
     "outputs_hidden": true
    }
   },
   "outputs": [],
   "source": [
    "newsgroups = fetch_20newsgroups(subset='train', remove=['headers', 'footers', 'quotes'])"
   ]
  },
  {
   "cell_type": "code",
   "execution_count": 20,
   "metadata": {
    "jupyter": {
     "outputs_hidden": true
    }
   },
   "outputs": [],
   "source": [
    "data = newsgroups['data']\n",
    "target = newsgroups['target']"
   ]
  },
  {
   "cell_type": "markdown",
   "metadata": {},
   "source": [
    "Преобразуйте текстовые данные из data с помощью [CountVectorizer](https://scikit-learn.org/stable/modules/generated/sklearn.feature_extraction.text.CountVectorizer.html). Словарь можно ограничить по частотности."
   ]
  },
  {
   "cell_type": "code",
   "execution_count": 21,
   "metadata": {},
   "outputs": [],
   "source": [
    "# преобразование данных я буду выполнять на ходу во время grid-search\n",
    "\n",
    "count_vec = CountVectorizer(max_df=0.8, min_df=10, stop_words='english')\n",
    "tf_idf = TfidfVectorizer(max_df=0.8, min_df=10, stop_words='english')\n",
    "\n",
    "data, target = np.array(data), np.array(target)"
   ]
  },
  {
   "cell_type": "markdown",
   "metadata": {},
   "source": [
    "*Так мы получили векторное представление наших текстов. Значит можно приступать к задаче обучения модели*"
   ]
  },
  {
   "cell_type": "markdown",
   "metadata": {},
   "source": [
    "Реализуйте разбиение выборки для кросс-валидации на 3 фолдах. Разрешено использовать sklearn.cross_validation"
   ]
  },
  {
   "cell_type": "code",
   "execution_count": 22,
   "metadata": {
    "jupyter": {
     "outputs_hidden": true
    }
   },
   "outputs": [],
   "source": [
    "# в используемой версии sklearn есть только KFold - он возвращает итератор\n",
    "kf = KFold(n_splits=3)"
   ]
  },
  {
   "cell_type": "markdown",
   "metadata": {},
   "source": [
    "Напишите метод, позволяющий найти оптимальное количество ближайших соседей(дающее максимальную точность в среднем на валидации на 3 фолдах).\n",
    "Постройте график зависимости средней точности от количества соседей. Можно рассмотреть число соседей от 1 до 10."
   ]
  },
  {
   "cell_type": "code",
   "execution_count": 23,
   "metadata": {},
   "outputs": [],
   "source": [
    "# функция для grid-search\n",
    "def knn_cv_score(X, y, parameters, score_function, kf, knn_class):\n",
    "    cv_score = defaultdict(list)\n",
    "\n",
    "    for train, val in kf.split(X):\n",
    "        for normalizer, normalizer_name in parameters['normalizers']:\n",
    "            X_train, X_val = X[train], X[val]\n",
    "            y_train, y_val = y[train], y[val]\n",
    "\n",
    "            normalizer.fit(X_train)\n",
    "            X_train = normalizer.transform(X_train)\n",
    "            X_val = normalizer.transform(X_val)\n",
    "\n",
    "            for n_neighbors in parameters['n_neighbors']:\n",
    "                for metric in parameters['metrics']:\n",
    "                    knn_model = knn_class(n_neighbors=n_neighbors, metric=metric)\n",
    "                    knn_model.fit(X_train, y_train)\n",
    "                    y_val_predict = knn_model.predict(X_val)\n",
    "                    score = score_function(y_val, y_val_predict)\n",
    "                    cv_score[(normalizer_name, n_neighbors, metric)].append(score)\n",
    "\n",
    "    for params in cv_score:\n",
    "        cv_score[params] = np.mean(cv_score[params])\n",
    "\n",
    "    return dict(cv_score)"
   ]
  },
  {
   "cell_type": "code",
   "execution_count": 24,
   "metadata": {},
   "outputs": [],
   "source": [
    "# сразу включаю в параметры и косинусную метрику, и TfIdf векторизацию для последующего сравнения\n",
    "parameters = {\n",
    "    'n_neighbors': [i for i in range(1, 11)],\n",
    "    'metrics': ['euclidean', 'cosine'],\n",
    "    'normalizers': [(count_vec, 'CountVectorizer'), (tf_idf, 'TfidfVectorizer')]\n",
    "}"
   ]
  },
  {
   "cell_type": "code",
   "execution_count": 25,
   "metadata": {},
   "outputs": [
    {
     "name": "stdout",
     "output_type": "stream",
     "text": [
      "CPU times: user 2min 18s, sys: 40 s, total: 2min 58s\n",
      "Wall time: 3min 8s\n"
     ]
    }
   ],
   "source": [
    "%%time\n",
    "cv_score = knn_cv_score(data, target, parameters, accuracy_score, kf, KNeighborsClassifier)"
   ]
  },
  {
   "cell_type": "code",
   "execution_count": 26,
   "metadata": {},
   "outputs": [
    {
     "name": "stdout",
     "output_type": "stream",
     "text": [
      "Best cv parameters: ('TfidfVectorizer', 10, 'cosine'), Best cv accuracy score: 0.6280721444065466\n"
     ]
    }
   ],
   "source": [
    "max_index = max(cv_score, key=cv_score.get)\n",
    "print(f'Best cv parameters: {max_index}, Best cv accuracy score: {cv_score[max_index]}')"
   ]
  },
  {
   "cell_type": "code",
   "execution_count": 27,
   "metadata": {},
   "outputs": [
    {
     "data": {
      "image/png": "[encoded data removed]",
      "text/plain": [
       "<Figure size 432x288 with 1 Axes>"
      ]
     },
     "metadata": {
      "needs_background": "light"
     },
     "output_type": "display_data"
    }
   ],
   "source": [
    "score_n_neighbors = []\n",
    "for n_neighbors in parameters['n_neighbors']:\n",
    "    cv_mean_n_neighbors = np.mean([cv_score[params] for params in cv_score if n_neighbors in params])\n",
    "    score_n_neighbors.append(cv_mean_n_neighbors)\n",
    "\n",
    "\n",
    "plt.plot(parameters['n_neighbors'], score_n_neighbors, marker='.')\n",
    "plt.xlabel(\"n_neighbors\", fontsize=14)\n",
    "plt.ylabel(\"Mean accuracy\", fontsize=14)\n",
    "plt.title(\"Dependence of mean accuracy on n_neighbors\", fontsize=14)\n",
    "\n",
    "plt.grid(True)\n",
    "\n",
    "plt.show()"
   ]
  },
  {
   "cell_type": "markdown",
   "metadata": {},
   "source": [
    "Как изменится качество на валидации, если:\n",
    "\n",
    "1. Используется косинусная метрика вместо евклидовой.\n",
    "2. К текстам применяется TfIdf векторизацию( sklearn.feature_extraction.text.TfidfVectorizer)\n",
    "\n",
    "Сравните модели, выберите лучшую."
   ]
  },
  {
   "cell_type": "markdown",
   "metadata": {},
   "source": [
    "### Сравнение метрик близости"
   ]
  },
  {
   "cell_type": "code",
   "execution_count": 28,
   "metadata": {},
   "outputs": [
    {
     "name": "stdout",
     "output_type": "stream",
     "text": [
      "euclidean: 0.16976292254361788\n",
      "cosine: 0.5539776907618269\n"
     ]
    }
   ],
   "source": [
    "for metric in parameters['metrics']:\n",
    "    cv_mean_metric = np.mean([cv_score[params] for params in cv_score if metric in params])\n",
    "    print(metric + ':', cv_mean_metric)"
   ]
  },
  {
   "cell_type": "markdown",
   "metadata": {},
   "source": [
    "Косинусная близость в среднем лучше. Это из-за того, что сонаправленность векторов встречаемости токенов важнее чем разность их величин."
   ]
  },
  {
   "cell_type": "markdown",
   "metadata": {},
   "source": [
    "### Сравнение векторизаторов"
   ]
  },
  {
   "cell_type": "code",
   "execution_count": 29,
   "metadata": {},
   "outputs": [
    {
     "name": "stdout",
     "output_type": "stream",
     "text": [
      "CountVectorizer: 0.3743414339343836\n",
      "TfidfVectorizer: 0.3493991793710612\n"
     ]
    }
   ],
   "source": [
    "for normalizer, norm_name in parameters['normalizers']:\n",
    "    cv_mean_normalizer = np.mean([cv_score[params] for params in cv_score if norm_name in params])\n",
    "    print(norm_name + ':', cv_mean_normalizer)"
   ]
  },
  {
   "cell_type": "markdown",
   "metadata": {},
   "source": [
    "Если сравнивать, усредняя по всем параметрам, то CountVectorizer показывает себя лучше. Однако, если усреднять только по тем параметрам, где использовалась косинусная метрика близости:"
   ]
  },
  {
   "cell_type": "code",
   "execution_count": 30,
   "metadata": {},
   "outputs": [
    {
     "name": "stdout",
     "output_type": "stream",
     "text": [
      "CountVectorizer: 0.5140533807192037\n",
      "TfidfVectorizer: 0.59390200080445\n"
     ]
    }
   ],
   "source": [
    "for normalizer, norm_name in parameters['normalizers']:\n",
    "    cv_mean_normalizer = np.mean(\n",
    "        [cv_score[params] for params in cv_score if norm_name in params and 'cosine' in params]\n",
    "    )\n",
    "    print(norm_name + ':', cv_mean_normalizer)"
   ]
  },
  {
   "cell_type": "markdown",
   "metadata": {},
   "source": [
    "то оказывается, что в среднем лучше TfidfVectorizer. Если токен встречается в большом числе документов, то он менее информативен для определения класса конкретного документа и, наоборот. TF_IDF учитывает это, CountVectorizer - нет."
   ]
  },
  {
   "cell_type": "markdown",
   "metadata": {},
   "source": [
    "Загрузим  теперь test  часть нашей выборки и преобразуем её аналогично с train частью. Не забудьте, что наборы слов в train и test части могут отличаться."
   ]
  },
  {
   "cell_type": "code",
   "execution_count": 31,
   "metadata": {
    "jupyter": {
     "outputs_hidden": true
    }
   },
   "outputs": [],
   "source": [
    "newsgroups = fetch_20newsgroups(subset='test', remove=['headers', 'footers', 'quotes'])"
   ]
  },
  {
   "cell_type": "markdown",
   "metadata": {},
   "source": [
    "Оценим точность вашей лучшей модели на test части датасета. Отличается ли оно от кросс-валидации? Попробуйте сделать выводы, почему отличается качество."
   ]
  },
  {
   "cell_type": "code",
   "execution_count": 32,
   "metadata": {
    "jupyter": {
     "outputs_hidden": true
    }
   },
   "outputs": [],
   "source": [
    "X_test, y_test = np.array(newsgroups['data']), np.array(newsgroups['target'])"
   ]
  },
  {
   "cell_type": "code",
   "execution_count": 33,
   "metadata": {},
   "outputs": [
    {
     "name": "stdout",
     "output_type": "stream",
     "text": [
      "Accuracy on test: 0.580987785448752\n"
     ]
    }
   ],
   "source": [
    "# scaling data with TfidfVectorizer\n",
    "tf_idf = TfidfVectorizer(max_df=0.8, min_df=10, stop_words='english')\n",
    "tf_idf.fit(data)\n",
    "X_train_scaled = tf_idf.transform(data)\n",
    "X_test_scaled = tf_idf.transform(X_test)\n",
    "\n",
    "# training model on best cv parameters\n",
    "best_cv_model = KNeighborsClassifier(n_neighbors=10, metric='cosine')\n",
    "best_cv_model.fit(X_train_scaled, target)\n",
    "\n",
    "# getting predictions\n",
    "y_test_predict = best_cv_model.predict(X_test_scaled)\n",
    "test_score = accuracy_score(y_test, y_test_predict)\n",
    "print(f'Accuracy on test: {test_score}')"
   ]
  },
  {
   "cell_type": "markdown",
   "metadata": {},
   "source": [
    "Качество немного хуже лучшего на кросс-валидации, поскольку теперь модель обучалась помимо того, что на обучающей выборке целиком, так и скорее всего, токены в обучающей и тестовой выборке имеют разное распределение, поэтому нам не гарантировано получение того же качества, что и на кросс-валидации."
   ]
  }
 ],
 "metadata": {
  "kernelspec": {
   "display_name": "Python 3 (ipykernel)",
   "language": "python",
   "name": "python3"
  },
  "language_info": {
   "codemirror_mode": {
    "name": "ipython",
    "version": 3
   },
   "file_extension": ".py",
   "mimetype": "text/x-python",
   "name": "python",
   "nbconvert_exporter": "python",
   "pygments_lexer": "ipython3",
   "version": "3.8.8"
  },
  "widgets": {
   "application/vnd.jupyter.widget-state+json": {
    "state": {},
    "version_major": 2,
    "version_minor": 0
   }
  }
 },
 "nbformat": 4,
 "nbformat_minor": 4
}
